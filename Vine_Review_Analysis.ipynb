{
  "nbformat": 4,
  "nbformat_minor": 0,
  "metadata": {
    "colab": {
      "provenance": [],
      "authorship_tag": "ABX9TyNAdvq8xzS/IExg7XluRdE9",
      "include_colab_link": true
    },
    "kernelspec": {
      "name": "python3",
      "display_name": "Python 3"
    },
    "language_info": {
      "name": "python"
    }
  },
  "cells": [
    {
      "cell_type": "markdown",
      "metadata": {
        "id": "view-in-github",
        "colab_type": "text"
      },
      "source": [
        "<a href=\"https://colab.research.google.com/github/cbeckler/amazon_vine_analysis/blob/main/Vine_Review_Analysis.ipynb\" target=\"_parent\"><img src=\"https://colab.research.google.com/assets/colab-badge.svg\" alt=\"Open In Colab\"/></a>"
      ]
    },
    {
      "cell_type": "code",
      "execution_count": 1,
      "metadata": {
        "colab": {
          "base_uri": "https://localhost:8080/"
        },
        "id": "BXsyZzUvEvhr",
        "outputId": "3eea60f5-44e8-40ef-9e97-54f46faf4c9c"
      },
      "outputs": [
        {
          "output_type": "stream",
          "name": "stdout",
          "text": [
            "\r0% [Working]\r            \rGet:1 http://security.ubuntu.com/ubuntu bionic-security InRelease [88.7 kB]\n",
            "\r0% [Waiting for headers] [1 InRelease 14.2 kB/88.7 kB 16%] [Connected to cloud.\r                                                                               \rHit:2 http://archive.ubuntu.com/ubuntu bionic InRelease\n",
            "\r0% [Waiting for headers] [1 InRelease 34.4 kB/88.7 kB 39%] [Connected to cloud.\r0% [2 InRelease gpgv 242 kB] [Waiting for headers] [1 InRelease 34.4 kB/88.7 kB\r                                                                               \rGet:3 https://cloud.r-project.org/bin/linux/ubuntu bionic-cran40/ InRelease [3,626 B]\n",
            "\r0% [2 InRelease gpgv 242 kB] [Waiting for headers] [1 InRelease 43.1 kB/88.7 kB\r                                                                               \rGet:4 http://archive.ubuntu.com/ubuntu bionic-updates InRelease [88.7 kB]\n",
            "\r0% [2 InRelease gpgv 242 kB] [4 InRelease 14.2 kB/88.7 kB 16%] [1 InRelease 43.\r0% [2 InRelease gpgv 242 kB] [4 InRelease 30.1 kB/88.7 kB 34%] [Waiting for hea\r                                                                               \rIgn:5 https://developer.download.nvidia.com/compute/machine-learning/repos/ubuntu1804/x86_64  InRelease\n",
            "\r0% [2 InRelease gpgv 242 kB] [4 InRelease 56.2 kB/88.7 kB 63%] [Waiting for hea\r                                                                               \rHit:6 https://developer.download.nvidia.com/compute/cuda/repos/ubuntu1804/x86_64  InRelease\n",
            "\r0% [2 InRelease gpgv 242 kB] [4 InRelease 77.9 kB/88.7 kB 88%] [Waiting for hea\r                                                                               \rHit:7 http://ppa.launchpad.net/c2d4u.team/c2d4u4.0+/ubuntu bionic InRelease\n",
            "\r0% [2 InRelease gpgv 242 kB] [4 InRelease 83.7 kB/88.7 kB 94%] [Waiting for hea\r0% [2 InRelease gpgv 242 kB] [Waiting for headers] [Waiting for headers] [Conne\r                                                                               \rHit:8 https://developer.download.nvidia.com/compute/machine-learning/repos/ubuntu1804/x86_64  Release\n",
            "Get:9 http://archive.ubuntu.com/ubuntu bionic-backports InRelease [83.3 kB]\n",
            "Hit:10 http://ppa.launchpad.net/cran/libgit2/ubuntu bionic InRelease\n",
            "Hit:11 http://ppa.launchpad.net/deadsnakes/ppa/ubuntu bionic InRelease\n",
            "Hit:12 http://ppa.launchpad.net/graphics-drivers/ppa/ubuntu bionic InRelease\n",
            "Get:13 http://security.ubuntu.com/ubuntu bionic-security/main amd64 Packages [3,068 kB]\n",
            "Get:14 http://security.ubuntu.com/ubuntu bionic-security/universe amd64 Packages [1,561 kB]\n",
            "Get:15 http://archive.ubuntu.com/ubuntu bionic-updates/multiverse amd64 Packages [29.8 kB]\n",
            "Get:16 http://archive.ubuntu.com/ubuntu bionic-updates/restricted amd64 Packages [1,303 kB]\n",
            "Get:17 http://archive.ubuntu.com/ubuntu bionic-updates/main amd64 Packages [3,494 kB]\n",
            "Get:18 http://archive.ubuntu.com/ubuntu bionic-updates/universe amd64 Packages [2,336 kB]\n",
            "Fetched 12.1 MB in 5s (2,250 kB/s)\n",
            "Reading package lists... Done\n"
          ]
        }
      ],
      "source": [
        "import os\n",
        "# Find the latest version of spark 3.0 from http://www.apache.org/dist/spark/ and enter as the spark version\n",
        "# For example:\n",
        "# spark_version = 'spark-3.0.3'\n",
        "spark_version = 'spark-3.1.3'\n",
        "os.environ['SPARK_VERSION']=spark_version\n",
        "\n",
        "# Install Spark and Java\n",
        "!apt-get update\n",
        "!apt-get install openjdk-11-jdk-headless -qq > /dev/null\n",
        "!wget -q http://www.apache.org/dist/spark/$SPARK_VERSION/$SPARK_VERSION-bin-hadoop2.7.tgz\n",
        "!tar xf $SPARK_VERSION-bin-hadoop2.7.tgz\n",
        "!pip install -q findspark\n",
        "\n",
        "# Set Environment Variables\n",
        "import os\n",
        "os.environ[\"JAVA_HOME\"] = \"/usr/lib/jvm/java-11-openjdk-amd64\"\n",
        "os.environ[\"SPARK_HOME\"] = f\"/content/{spark_version}-bin-hadoop2.7\"\n",
        "\n",
        "# Start a SparkSession\n",
        "import findspark\n",
        "findspark.init()"
      ]
    },
    {
      "cell_type": "code",
      "source": [
        "# Start Spark session\n",
        "from pyspark.sql import SparkSession\n",
        "\n",
        "spark = SparkSession.builder.appName(\"Vine_Review_Analysis\").getOrCreate()"
      ],
      "metadata": {
        "id": "DY-1b-YFE1g4"
      },
      "execution_count": 2,
      "outputs": []
    },
    {
      "cell_type": "code",
      "source": [
        "from pyspark import SparkFiles\n",
        "url = \"https://s3.amazonaws.com/amazon-reviews-pds/tsv/amazon_reviews_us_Video_Games_v1_00.tsv.gz\"\n",
        "spark.sparkContext.addFile(url)\n",
        "\n",
        "df = spark.read.option(\"encoding\", \"UTF-8\").csv(SparkFiles.get(\"\"), sep=\"\\t\", header=True, inferSchema=True)\n",
        "df.show()"
      ],
      "metadata": {
        "colab": {
          "base_uri": "https://localhost:8080/"
        },
        "id": "4eWKUnZ3E9_P",
        "outputId": "94dc602c-9784-443e-de20-f5b496f8a16a"
      },
      "execution_count": 3,
      "outputs": [
        {
          "output_type": "stream",
          "name": "stdout",
          "text": [
            "+-----------+-----------+--------------+----------+--------------+--------------------+----------------+-----------+-------------+-----------+----+-----------------+--------------------+--------------------+-----------+\n",
            "|marketplace|customer_id|     review_id|product_id|product_parent|       product_title|product_category|star_rating|helpful_votes|total_votes|vine|verified_purchase|     review_headline|         review_body|review_date|\n",
            "+-----------+-----------+--------------+----------+--------------+--------------------+----------------+-----------+-------------+-----------+----+-----------------+--------------------+--------------------+-----------+\n",
            "|         US|   12039526| RTIS3L2M1F5SM|B001CXYMFS|     737716809|Thrustmaster T-Fl...|     Video Games|          5|            0|          0|   N|                Y|an amazing joysti...|Used this for Eli...| 2015-08-31|\n",
            "|         US|    9636577| R1ZV7R40OLHKD|B00M920ND6|     569686175|Tonsee 6 buttons ...|     Video Games|          5|            0|          0|   N|                Y|Definitely a sile...|Loved it,  I didn...| 2015-08-31|\n",
            "|         US|    2331478|R3BH071QLH8QMC|B0029CSOD2|      98937668|Hidden Mysteries:...|     Video Games|          1|            0|          1|   N|                Y|            One Star|poor quality work...| 2015-08-31|\n",
            "|         US|   52495923|R127K9NTSXA2YH|B00GOOSV98|      23143350|GelTabz Performan...|     Video Games|          3|            0|          0|   N|                Y|good, but could b...|nice, but tend to...| 2015-08-31|\n",
            "|         US|   14533949|R32ZWUXDJPW27Q|B00Y074JOM|     821342511|Zero Suit Samus a...|     Video Games|          4|            0|          0|   N|                Y|   Great but flawed.|Great amiibo, gre...| 2015-08-31|\n",
            "|         US|    2377552|R3AQQ4YUKJWBA6|B002UBI6W6|     328764615|Psyclone Recharge...|     Video Games|          1|            0|          0|   N|                Y|            One Star|The remote consta...| 2015-08-31|\n",
            "|         US|   17521011|R2F0POU5K6F73F|B008XHCLFO|      24234603|Protection for yo...|     Video Games|          5|            0|          0|   N|                Y|              A Must|I have a 2012-201...| 2015-08-31|\n",
            "|         US|   19676307|R3VNR804HYSMR6|B00BRA9R6A|     682267517|   Nerf 3DS XL Armor|     Video Games|          5|            0|          0|   N|                Y|          Five Stars|Perfect, kids lov...| 2015-08-31|\n",
            "|         US|     224068| R3GZTM72WA2QH|B009EPWJLA|     435241890|One Piece: Pirate...|     Video Games|          5|            0|          0|   N|                Y|          Five Stars|            Excelent| 2015-08-31|\n",
            "|         US|   48467989| RNQOY62705W1K|B0000AV7GB|     256572651|Playstation 2 Dan...|     Video Games|          4|            0|          0|   N|                Y|          Four Stars|Slippery but expe...| 2015-08-31|\n",
            "|         US|     106569|R1VTIA3JTYBY02|B00008KTNN|     384411423|Metal Arms: Glitc...|     Video Games|          5|            0|          0|   N|                N|          Five Stars|Love the game. Se...| 2015-08-31|\n",
            "|         US|   48269642|R29DOU8791QZL8|B000A3IA0Y|     472622859|72 Pin Connector ...|     Video Games|          1|            0|          0|   N|                Y| Game will get stuck|Does not fit prop...| 2015-08-31|\n",
            "|         US|   52738710|R15DUT1VIJ9RJZ|B0053BQN34|     577628462|uDraw Gametablet ...|     Video Games|          2|            0|          0|   N|                Y|We have tried it ...|This was way too ...| 2015-08-31|\n",
            "|         US|   10556786|R3IMF2MQ3OU9ZM|B002I0HIMI|     988218515|NBA 2K12(Covers M...|     Video Games|          4|            0|          0|   N|                Y|          Four Stars|Works great good ...| 2015-08-31|\n",
            "|         US|    2963837|R23H79DHOZTYAU|B0081EH12M|     770100932|New Trigger Grips...|     Video Games|          1|            1|          1|   N|                Y|Now i have to buy...|It did not fit th...| 2015-08-31|\n",
            "|         US|   23092109| RIV24EQAIXA4O|B005FMLZQQ|      24647669|Xbox 360 Media Re...|     Video Games|          5|            0|          0|   N|                Y|          Five Stars|perfect lightweig...| 2015-08-31|\n",
            "|         US|   23091728|R3UCNGYDVN24YB|B002BSA388|      33706205|Super Mario Galaxy 2|     Video Games|          5|            0|          0|   N|                Y|          Five Stars|               great| 2015-08-31|\n",
            "|         US|   10712640| RUL4H4XTTN2DY|B00BUSLSAC|     829667834|Nintendo 3DS XL -...|     Video Games|          5|            0|          0|   N|                Y|          Five Stars|Works beautifully...| 2015-08-31|\n",
            "|         US|   17455376|R20JF7Z4DHTNX5|B00KWF38AW|     110680188|Captain Toad:  Tr...|     Video Games|          5|            0|          0|   N|                Y|          Five Stars|Kids loved the ga...| 2015-08-31|\n",
            "|         US|   14754850|R2T1AJ5MFI2260|B00BRQJYA8|     616463426|Lego Batman 2: DC...|     Video Games|          4|            0|          0|   N|                Y|          Four Stars|           Goodngame| 2015-08-31|\n",
            "+-----------+-----------+--------------+----------+--------------+--------------------+----------------+-----------+-------------+-----------+----+-----------------+--------------------+--------------------+-----------+\n",
            "only showing top 20 rows\n",
            "\n"
          ]
        }
      ]
    },
    {
      "cell_type": "code",
      "source": [
        "# Create the vine_table. DataFrame\n",
        "vine_df = df.select(['review_id','star_rating','helpful_votes','total_votes','vine','verified_purchase'])\n",
        "\n",
        "vine_df.show()"
      ],
      "metadata": {
        "colab": {
          "base_uri": "https://localhost:8080/"
        },
        "id": "ZaqGnp0pFBCP",
        "outputId": "d850c626-2dce-4f96-8c0e-4c3875b51e7b"
      },
      "execution_count": 4,
      "outputs": [
        {
          "output_type": "stream",
          "name": "stdout",
          "text": [
            "+--------------+-----------+-------------+-----------+----+-----------------+\n",
            "|     review_id|star_rating|helpful_votes|total_votes|vine|verified_purchase|\n",
            "+--------------+-----------+-------------+-----------+----+-----------------+\n",
            "| RTIS3L2M1F5SM|          5|            0|          0|   N|                Y|\n",
            "| R1ZV7R40OLHKD|          5|            0|          0|   N|                Y|\n",
            "|R3BH071QLH8QMC|          1|            0|          1|   N|                Y|\n",
            "|R127K9NTSXA2YH|          3|            0|          0|   N|                Y|\n",
            "|R32ZWUXDJPW27Q|          4|            0|          0|   N|                Y|\n",
            "|R3AQQ4YUKJWBA6|          1|            0|          0|   N|                Y|\n",
            "|R2F0POU5K6F73F|          5|            0|          0|   N|                Y|\n",
            "|R3VNR804HYSMR6|          5|            0|          0|   N|                Y|\n",
            "| R3GZTM72WA2QH|          5|            0|          0|   N|                Y|\n",
            "| RNQOY62705W1K|          4|            0|          0|   N|                Y|\n",
            "|R1VTIA3JTYBY02|          5|            0|          0|   N|                N|\n",
            "|R29DOU8791QZL8|          1|            0|          0|   N|                Y|\n",
            "|R15DUT1VIJ9RJZ|          2|            0|          0|   N|                Y|\n",
            "|R3IMF2MQ3OU9ZM|          4|            0|          0|   N|                Y|\n",
            "|R23H79DHOZTYAU|          1|            1|          1|   N|                Y|\n",
            "| RIV24EQAIXA4O|          5|            0|          0|   N|                Y|\n",
            "|R3UCNGYDVN24YB|          5|            0|          0|   N|                Y|\n",
            "| RUL4H4XTTN2DY|          5|            0|          0|   N|                Y|\n",
            "|R20JF7Z4DHTNX5|          5|            0|          0|   N|                Y|\n",
            "|R2T1AJ5MFI2260|          4|            0|          0|   N|                Y|\n",
            "+--------------+-----------+-------------+-----------+----+-----------------+\n",
            "only showing top 20 rows\n",
            "\n"
          ]
        }
      ]
    },
    {
      "cell_type": "code",
      "source": [
        "vine_filtered = vine_df.filter(\"total_votes>=20\")\n",
        "\n",
        "vine_filtered.show()"
      ],
      "metadata": {
        "colab": {
          "base_uri": "https://localhost:8080/"
        },
        "id": "YxUwjSjbFLJ_",
        "outputId": "5b6aaade-2a8d-4135-d93f-e0ccf04cff53"
      },
      "execution_count": 5,
      "outputs": [
        {
          "output_type": "stream",
          "name": "stdout",
          "text": [
            "+--------------+-----------+-------------+-----------+----+-----------------+\n",
            "|     review_id|star_rating|helpful_votes|total_votes|vine|verified_purchase|\n",
            "+--------------+-----------+-------------+-----------+----+-----------------+\n",
            "| R4PKAZRQJJX14|          1|           21|         34|   N|                N|\n",
            "|R2CI0Y288CC7E2|          1|           21|         35|   N|                Y|\n",
            "|R127WEQY2FM1T3|          1|          147|        175|   N|                Y|\n",
            "|R3EZ0EPYLDA34S|          1|           14|         31|   N|                Y|\n",
            "|R2FJ94555FZH32|          2|           55|         60|   N|                N|\n",
            "|R1U3AR67RE273L|          1|           51|         65|   N|                Y|\n",
            "|R3PZOXA5X1U8KW|          4|           31|         36|   N|                N|\n",
            "| R6KTC1OPIOIIG|          2|           19|         34|   N|                Y|\n",
            "|R36O341WWXXKNP|          5|           28|         31|   N|                N|\n",
            "|R3GSK9MM8DNOYI|          1|            4|         32|   N|                N|\n",
            "|R10LZVBLQHBVJ0|          2|          151|        198|   N|                N|\n",
            "|R1VR5GLGY1GE7N|          1|           49|         51|   N|                Y|\n",
            "|R3GUUC6NT4QMCL|          1|            5|         36|   N|                N|\n",
            "|R1ZSD020RT18I5|          1|            7|        139|   N|                N|\n",
            "|R113X48B575ASY|          1|           15|         45|   N|                N|\n",
            "| RJLYLGRYH7SFQ|          1|           34|        116|   N|                N|\n",
            "|R2OWDAR0EDEPTF|          1|           23|         28|   N|                N|\n",
            "|R3CICXKAHN6NUD|          1|            0|         23|   N|                Y|\n",
            "|R29BOS5HMAY1LO|          5|           88|        110|   N|                N|\n",
            "| R8WD0136CETA7|          2|           99|        119|   N|                N|\n",
            "+--------------+-----------+-------------+-----------+----+-----------------+\n",
            "only showing top 20 rows\n",
            "\n"
          ]
        }
      ]
    },
    {
      "cell_type": "code",
      "source": [
        "vine_filtered = vine_filtered.filter(\"helpful_votes/total_votes >= 0.5\")\n",
        "\n",
        "vine_filtered.show()"
      ],
      "metadata": {
        "colab": {
          "base_uri": "https://localhost:8080/"
        },
        "id": "_qFtwVOmFdKW",
        "outputId": "f18ebd77-a5b1-4072-e693-7eaee4c7b857"
      },
      "execution_count": 6,
      "outputs": [
        {
          "output_type": "stream",
          "name": "stdout",
          "text": [
            "+--------------+-----------+-------------+-----------+----+-----------------+\n",
            "|     review_id|star_rating|helpful_votes|total_votes|vine|verified_purchase|\n",
            "+--------------+-----------+-------------+-----------+----+-----------------+\n",
            "| R4PKAZRQJJX14|          1|           21|         34|   N|                N|\n",
            "|R2CI0Y288CC7E2|          1|           21|         35|   N|                Y|\n",
            "|R127WEQY2FM1T3|          1|          147|        175|   N|                Y|\n",
            "|R2FJ94555FZH32|          2|           55|         60|   N|                N|\n",
            "|R1U3AR67RE273L|          1|           51|         65|   N|                Y|\n",
            "|R3PZOXA5X1U8KW|          4|           31|         36|   N|                N|\n",
            "| R6KTC1OPIOIIG|          2|           19|         34|   N|                Y|\n",
            "|R36O341WWXXKNP|          5|           28|         31|   N|                N|\n",
            "|R10LZVBLQHBVJ0|          2|          151|        198|   N|                N|\n",
            "|R1VR5GLGY1GE7N|          1|           49|         51|   N|                Y|\n",
            "|R2OWDAR0EDEPTF|          1|           23|         28|   N|                N|\n",
            "|R29BOS5HMAY1LO|          5|           88|        110|   N|                N|\n",
            "| R8WD0136CETA7|          2|           99|        119|   N|                N|\n",
            "|R16621F16PQN5A|          3|           24|         31|   N|                Y|\n",
            "|R1LXBPG1M9DDOC|          1|          102|        106|   N|                N|\n",
            "| RNEMGSUKJ4535|          2|           21|         25|   N|                Y|\n",
            "|R3R2UKBFKP1IQ4|          1|           19|         23|   N|                Y|\n",
            "|R2T90XM5G2DBZA|          3|           15|         22|   N|                Y|\n",
            "| R5ZMK0Y0KRBRZ|          1|           79|         91|   N|                N|\n",
            "|R12E2W0XOV3I2S|          1|           24|         30|   N|                Y|\n",
            "+--------------+-----------+-------------+-----------+----+-----------------+\n",
            "only showing top 20 rows\n",
            "\n"
          ]
        }
      ]
    },
    {
      "cell_type": "code",
      "source": [
        "from pyspark.sql.functions import expr\n",
        "\n",
        "five_star_col = expr(\"IF(star_rating = 5, 1, 0)\")\n",
        "\n",
        "vine_filtered = vine_filtered.withColumn('five_star', five_star_col)\n",
        "\n",
        "vine_filtered.show()"
      ],
      "metadata": {
        "colab": {
          "base_uri": "https://localhost:8080/"
        },
        "id": "HxW6MJ-jGOV_",
        "outputId": "5ca2abbd-2550-4d78-9d39-ec7f208eb853"
      },
      "execution_count": 14,
      "outputs": [
        {
          "output_type": "stream",
          "name": "stdout",
          "text": [
            "+--------------+-----------+-------------+-----------+----+-----------------+---------+\n",
            "|     review_id|star_rating|helpful_votes|total_votes|vine|verified_purchase|five_star|\n",
            "+--------------+-----------+-------------+-----------+----+-----------------+---------+\n",
            "| R4PKAZRQJJX14|          1|           21|         34|   N|                N|        0|\n",
            "|R2CI0Y288CC7E2|          1|           21|         35|   N|                Y|        0|\n",
            "|R127WEQY2FM1T3|          1|          147|        175|   N|                Y|        0|\n",
            "|R2FJ94555FZH32|          2|           55|         60|   N|                N|        0|\n",
            "|R1U3AR67RE273L|          1|           51|         65|   N|                Y|        0|\n",
            "|R3PZOXA5X1U8KW|          4|           31|         36|   N|                N|        0|\n",
            "| R6KTC1OPIOIIG|          2|           19|         34|   N|                Y|        0|\n",
            "|R36O341WWXXKNP|          5|           28|         31|   N|                N|        1|\n",
            "|R10LZVBLQHBVJ0|          2|          151|        198|   N|                N|        0|\n",
            "|R1VR5GLGY1GE7N|          1|           49|         51|   N|                Y|        0|\n",
            "|R2OWDAR0EDEPTF|          1|           23|         28|   N|                N|        0|\n",
            "|R29BOS5HMAY1LO|          5|           88|        110|   N|                N|        1|\n",
            "| R8WD0136CETA7|          2|           99|        119|   N|                N|        0|\n",
            "|R16621F16PQN5A|          3|           24|         31|   N|                Y|        0|\n",
            "|R1LXBPG1M9DDOC|          1|          102|        106|   N|                N|        0|\n",
            "| RNEMGSUKJ4535|          2|           21|         25|   N|                Y|        0|\n",
            "|R3R2UKBFKP1IQ4|          1|           19|         23|   N|                Y|        0|\n",
            "|R2T90XM5G2DBZA|          3|           15|         22|   N|                Y|        0|\n",
            "| R5ZMK0Y0KRBRZ|          1|           79|         91|   N|                N|        0|\n",
            "|R12E2W0XOV3I2S|          1|           24|         30|   N|                Y|        0|\n",
            "+--------------+-----------+-------------+-----------+----+-----------------+---------+\n",
            "only showing top 20 rows\n",
            "\n"
          ]
        }
      ]
    },
    {
      "cell_type": "code",
      "source": [
        "vine_yes = vine_filtered.filter(\"vine == 'Y'\")\n",
        "\n",
        "vine_yes.show()"
      ],
      "metadata": {
        "colab": {
          "base_uri": "https://localhost:8080/"
        },
        "id": "RZB0ixvtFsJV",
        "outputId": "eceb78cc-44f4-477e-eb37-9cc321b2f19f"
      },
      "execution_count": 15,
      "outputs": [
        {
          "output_type": "stream",
          "name": "stdout",
          "text": [
            "+--------------+-----------+-------------+-----------+----+-----------------+---------+\n",
            "|     review_id|star_rating|helpful_votes|total_votes|vine|verified_purchase|five_star|\n",
            "+--------------+-----------+-------------+-----------+----+-----------------+---------+\n",
            "|R3KKUSGFZWSUIY|          5|           56|         63|   Y|                N|        1|\n",
            "|R10FO5UKKVZBK2|          3|           23|         23|   Y|                N|        0|\n",
            "| RM4KSGEOR7MU1|          5|           19|         24|   Y|                N|        1|\n",
            "| RG7VRMYLEXD23|          4|           22|         26|   Y|                N|        0|\n",
            "|R11O4YSCPSNL6L|          3|           20|         26|   Y|                N|        0|\n",
            "|R286MFBAJ8NPD6|          5|           46|         51|   Y|                N|        1|\n",
            "|R1JRR530H4COA2|          5|           22|         28|   Y|                N|        1|\n",
            "| RQ5WD90PUNBU9|          5|           21|         24|   Y|                N|        1|\n",
            "|R12648VHCQWUV9|          4|           21|         28|   Y|                N|        0|\n",
            "|R3KAW29CJ8L6DQ|          5|           17|         20|   Y|                N|        1|\n",
            "|R1OWK33OPI45KT|          5|           55|         58|   Y|                N|        1|\n",
            "|R2UP7VTED8O425|          5|           35|         41|   Y|                N|        1|\n",
            "|R3N4QAXTQCA1ED|          5|           18|         20|   Y|                N|        1|\n",
            "|R3EPHK0JGQGE91|          5|           21|         28|   Y|                N|        1|\n",
            "| RCP3KRO47S0GG|          4|           51|         58|   Y|                N|        0|\n",
            "|R3JT907UUA1WUI|          4|           85|        103|   Y|                N|        0|\n",
            "| RY0555ILXIYXW|          5|           38|         50|   Y|                N|        1|\n",
            "|R24PS9N276OXF4|          5|          241|        262|   Y|                N|        1|\n",
            "|R3R0F8ETAGTIOT|          5|           14|         20|   Y|                N|        1|\n",
            "| ROXZOMHBY8Y9S|          4|           21|         23|   Y|                N|        0|\n",
            "+--------------+-----------+-------------+-----------+----+-----------------+---------+\n",
            "only showing top 20 rows\n",
            "\n"
          ]
        }
      ]
    },
    {
      "cell_type": "code",
      "source": [
        "vine_no = vine_filtered.filter(\"vine == 'N'\")\n",
        "\n",
        "vine_no.show()"
      ],
      "metadata": {
        "colab": {
          "base_uri": "https://localhost:8080/"
        },
        "id": "PKF7lQAuF29d",
        "outputId": "2d045545-8727-41cc-dd4c-1396efedc939"
      },
      "execution_count": 16,
      "outputs": [
        {
          "output_type": "stream",
          "name": "stdout",
          "text": [
            "+--------------+-----------+-------------+-----------+----+-----------------+---------+\n",
            "|     review_id|star_rating|helpful_votes|total_votes|vine|verified_purchase|five_star|\n",
            "+--------------+-----------+-------------+-----------+----+-----------------+---------+\n",
            "| R4PKAZRQJJX14|          1|           21|         34|   N|                N|        0|\n",
            "|R2CI0Y288CC7E2|          1|           21|         35|   N|                Y|        0|\n",
            "|R127WEQY2FM1T3|          1|          147|        175|   N|                Y|        0|\n",
            "|R2FJ94555FZH32|          2|           55|         60|   N|                N|        0|\n",
            "|R1U3AR67RE273L|          1|           51|         65|   N|                Y|        0|\n",
            "|R3PZOXA5X1U8KW|          4|           31|         36|   N|                N|        0|\n",
            "| R6KTC1OPIOIIG|          2|           19|         34|   N|                Y|        0|\n",
            "|R36O341WWXXKNP|          5|           28|         31|   N|                N|        1|\n",
            "|R10LZVBLQHBVJ0|          2|          151|        198|   N|                N|        0|\n",
            "|R1VR5GLGY1GE7N|          1|           49|         51|   N|                Y|        0|\n",
            "|R2OWDAR0EDEPTF|          1|           23|         28|   N|                N|        0|\n",
            "|R29BOS5HMAY1LO|          5|           88|        110|   N|                N|        1|\n",
            "| R8WD0136CETA7|          2|           99|        119|   N|                N|        0|\n",
            "|R16621F16PQN5A|          3|           24|         31|   N|                Y|        0|\n",
            "|R1LXBPG1M9DDOC|          1|          102|        106|   N|                N|        0|\n",
            "| RNEMGSUKJ4535|          2|           21|         25|   N|                Y|        0|\n",
            "|R3R2UKBFKP1IQ4|          1|           19|         23|   N|                Y|        0|\n",
            "|R2T90XM5G2DBZA|          3|           15|         22|   N|                Y|        0|\n",
            "| R5ZMK0Y0KRBRZ|          1|           79|         91|   N|                N|        0|\n",
            "|R12E2W0XOV3I2S|          1|           24|         30|   N|                Y|        0|\n",
            "+--------------+-----------+-------------+-----------+----+-----------------+---------+\n",
            "only showing top 20 rows\n",
            "\n"
          ]
        }
      ]
    },
    {
      "cell_type": "code",
      "source": [
        "yes_summary = vine_yes.agg({'star_rating':'count', 'five_star':'sum'})\n",
        "\n",
        "yes_summary = yes_summary.withColumnRenamed('sum(five_star)','five_star_ratings')\n",
        "\n",
        "yes_summary = yes_summary.withColumnRenamed('count(star_rating)','all_ratings')\n",
        "\n",
        "yes_summary = yes_summary.withColumn('percent_five_star', yes_summary['five_star_ratings']/yes_summary['all_ratings']*100)\n",
        "\n",
        "yes_summary = yes_summary.select(['all_ratings', 'five_star_ratings', 'percent_five_star'])\n",
        "\n",
        "yes_summary.show()"
      ],
      "metadata": {
        "colab": {
          "base_uri": "https://localhost:8080/"
        },
        "id": "ivuTuyc0GE6W",
        "outputId": "68b2de4c-0eba-454f-de44-7e5fb19842fa"
      },
      "execution_count": 20,
      "outputs": [
        {
          "output_type": "stream",
          "name": "stdout",
          "text": [
            "+-----------+-----------------+-----------------+\n",
            "|all_ratings|five_star_ratings|percent_five_star|\n",
            "+-----------+-----------------+-----------------+\n",
            "|         94|               48|51.06382978723404|\n",
            "+-----------+-----------------+-----------------+\n",
            "\n"
          ]
        }
      ]
    },
    {
      "cell_type": "code",
      "source": [
        "no_summary = vine_no.agg({'star_rating':'count', 'five_star':'sum'})\n",
        "\n",
        "no_summary = no_summary.withColumnRenamed('sum(five_star)','five_star_ratings')\n",
        "\n",
        "no_summary = no_summary.withColumnRenamed('count(star_rating)','all_ratings')\n",
        "\n",
        "no_summary = no_summary.withColumn('percent_five_star', no_summary['five_star_ratings']/no_summary['all_ratings']*100)\n",
        "\n",
        "no_summary = no_summary.select(['all_ratings', 'five_star_ratings', 'percent_five_star'])\n",
        "\n",
        "no_summary.show()"
      ],
      "metadata": {
        "colab": {
          "base_uri": "https://localhost:8080/"
        },
        "id": "oczYS1kiIh_y",
        "outputId": "b5fdfb1f-2aad-493d-877d-af88eccca380"
      },
      "execution_count": 21,
      "outputs": [
        {
          "output_type": "stream",
          "name": "stdout",
          "text": [
            "+-----------+-----------------+------------------+\n",
            "|all_ratings|five_star_ratings| percent_five_star|\n",
            "+-----------+-----------------+------------------+\n",
            "|      40471|            15663|38.701786464381904|\n",
            "+-----------+-----------------+------------------+\n",
            "\n"
          ]
        }
      ]
    },
    {
      "cell_type": "code",
      "source": [
        "summary = vine_filtered.groupby('vine').agg({'star_rating':'count', 'five_star':'sum'})\n",
        "\n",
        "summary = summary.withColumnRenamed('sum(five_star)','five_star_ratings')\n",
        "\n",
        "summary = summary.withColumnRenamed('count(star_rating)','all_ratings')\n",
        "\n",
        "summary = summary.withColumn('percent_five_star', summary['five_star_ratings']/summary['all_ratings']*100)\n",
        "\n",
        "summary = summary.select(['vine', 'all_ratings', 'five_star_ratings', 'percent_five_star'])\n",
        "\n",
        "summary.show()"
      ],
      "metadata": {
        "colab": {
          "base_uri": "https://localhost:8080/"
        },
        "id": "a2j1WTZwJtRN",
        "outputId": "91db915c-f57e-4446-b14c-4f93b3e2491b"
      },
      "execution_count": 23,
      "outputs": [
        {
          "output_type": "stream",
          "name": "stdout",
          "text": [
            "+----+-----------+-----------------+------------------+\n",
            "|vine|all_ratings|five_star_ratings| percent_five_star|\n",
            "+----+-----------+-----------------+------------------+\n",
            "|   Y|         94|               48| 51.06382978723404|\n",
            "|   N|      40471|            15663|38.701786464381904|\n",
            "+----+-----------+-----------------+------------------+\n",
            "\n"
          ]
        }
      ]
    },
    {
      "cell_type": "code",
      "source": [],
      "metadata": {
        "id": "5IvNN8rKKRey"
      },
      "execution_count": null,
      "outputs": []
    }
  ]
}